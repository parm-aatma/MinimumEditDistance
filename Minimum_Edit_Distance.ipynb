{
  "nbformat": 4,
  "nbformat_minor": 0,
  "metadata": {
    "colab": {
      "name": "Minimum Edit Distance.ipynb",
      "provenance": [],
      "authorship_tag": "ABX9TyNqn5cb0easgxjltNADQz9P",
      "include_colab_link": true
    },
    "kernelspec": {
      "name": "python3",
      "display_name": "Python 3"
    }
  },
  "cells": [
    {
      "cell_type": "markdown",
      "metadata": {
        "id": "view-in-github",
        "colab_type": "text"
      },
      "source": [
        "<a href=\"https://colab.research.google.com/github/parm-aatma/MinimumEditDistance/blob/main/Minimum_Edit_Distance.ipynb\" target=\"_parent\"><img src=\"https://colab.research.google.com/assets/colab-badge.svg\" alt=\"Open In Colab\"/></a>"
      ]
    },
    {
      "cell_type": "code",
      "metadata": {
        "id": "GapWbmf7nzKq",
        "colab": {
          "base_uri": "https://localhost:8080/"
        },
        "outputId": "7238f034-7dd6-4d2a-beca-fceda147143b"
      },
      "source": [
        "source=list(' shivam')\n",
        "target=list(' pandey')\n",
        "print('Source:',source)\n",
        "print('Target:',target)"
      ],
      "execution_count": 43,
      "outputs": [
        {
          "output_type": "stream",
          "name": "stdout",
          "text": [
            "Source: [' ', 's', 'h', 'i', 'v', 'a', 'm']\n",
            "Target: [' ', 'p', 'a', 'n', 'd', 'e', 'y']\n"
          ]
        }
      ]
    },
    {
      "cell_type": "code",
      "source": [
        "import numpy as np"
      ],
      "metadata": {
        "id": "D89mHB4tVtqD"
      },
      "execution_count": 44,
      "outputs": []
    },
    {
      "cell_type": "code",
      "source": [
        "table=np.zeros((len(source),len(target)))\n",
        "table"
      ],
      "metadata": {
        "colab": {
          "base_uri": "https://localhost:8080/"
        },
        "id": "jUceAIF3VAXk",
        "outputId": "15ce4da0-93b3-4094-8f88-0cedf625250a"
      },
      "execution_count": 46,
      "outputs": [
        {
          "output_type": "execute_result",
          "data": {
            "text/plain": [
              "array([[0., 0., 0., 0., 0., 0., 0.],\n",
              "       [0., 0., 0., 0., 0., 0., 0.],\n",
              "       [0., 0., 0., 0., 0., 0., 0.],\n",
              "       [0., 0., 0., 0., 0., 0., 0.],\n",
              "       [0., 0., 0., 0., 0., 0., 0.],\n",
              "       [0., 0., 0., 0., 0., 0., 0.],\n",
              "       [0., 0., 0., 0., 0., 0., 0.]])"
            ]
          },
          "metadata": {},
          "execution_count": 46
        }
      ]
    },
    {
      "cell_type": "code",
      "source": [
        "i,j=0,0\n",
        "\n",
        "insert,delete,replace=1,1,2\n",
        "\n",
        "while(i<len(target)):\n",
        "\n",
        "  if(i==0 and j==0):\n",
        "    table[0][0]=0\n",
        "    j+=1\n",
        "    continue\n",
        "\n",
        "  if j-1>=0:\n",
        "    score1=table[j-1][i]+delete\n",
        "  else:\n",
        "    score1=np.inf\n",
        "  \n",
        "  if i-1>=0:\n",
        "    score2=table[j][i-1]+insert\n",
        "  else:\n",
        "    score2=np.inf\n",
        "\n",
        "  if j-1>=0 and i-1>=0:\n",
        "    if source[j]==target[i]:\n",
        "      score3=table[j-1][i-1]\n",
        "    else:\n",
        "      score3=table[j-1][i-1]+replace\n",
        "  else:\n",
        "    score3=np.inf\n",
        "\n",
        "  score=min(score1,score2,score3)\n",
        "  table[j][i]=score\n",
        "\n",
        "  j+=1\n",
        "\n",
        "  if j==len(source):\n",
        "    j=0\n",
        "    i+=1"
      ],
      "metadata": {
        "id": "SZaaWBklV2tV"
      },
      "execution_count": 47,
      "outputs": []
    },
    {
      "cell_type": "code",
      "source": [
        "table"
      ],
      "metadata": {
        "colab": {
          "base_uri": "https://localhost:8080/"
        },
        "id": "og7D_ud-YYP9",
        "outputId": "4abf5e5b-cc82-44b0-8d25-bb168a9e32f4"
      },
      "execution_count": 48,
      "outputs": [
        {
          "output_type": "execute_result",
          "data": {
            "text/plain": [
              "array([[ 0.,  1.,  2.,  3.,  4.,  5.,  6.],\n",
              "       [ 1.,  2.,  3.,  4.,  5.,  6.,  7.],\n",
              "       [ 2.,  3.,  4.,  5.,  6.,  7.,  8.],\n",
              "       [ 3.,  4.,  5.,  6.,  7.,  8.,  9.],\n",
              "       [ 4.,  5.,  6.,  7.,  8.,  9., 10.],\n",
              "       [ 5.,  6.,  5.,  6.,  7.,  8.,  9.],\n",
              "       [ 6.,  7.,  6.,  7.,  8.,  9., 10.]])"
            ]
          },
          "metadata": {},
          "execution_count": 48
        }
      ]
    },
    {
      "cell_type": "code",
      "source": [
        ""
      ],
      "metadata": {
        "id": "tw02FFiAY8u7"
      },
      "execution_count": null,
      "outputs": []
    }
  ]
}